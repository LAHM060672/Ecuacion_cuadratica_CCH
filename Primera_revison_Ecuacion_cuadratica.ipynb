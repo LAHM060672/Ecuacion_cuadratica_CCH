{
 "cells": [
  {
   "cell_type": "markdown",
   "id": "b373bad3",
   "metadata": {},
   "source": [
    "## Ecuación cuadrática\n"
   ]
  },
  {
   "cell_type": "markdown",
   "id": "0d4468c6",
   "metadata": {},
   "source": [
    "# Programa de estudio de Cibérnetica y Computación I\n",
    "\n",
    "## Introducción \n",
    "\n",
    "### La metodología de solución de problemas y la introducción al lenguaje de programación  son temas fundamentales en el modelo educativo del Colegio de Ciencias y Humanidades, ya que permiten a los estudiantes desarrollar habilidades en la resolución de problemas y en la programación de software, en particular, estos temas son muy importantes en la aplicación de la ecuación cuadrática, una herramienta matemática esencial en muchas áreas de la ciencia y la ingeniería."
   ]
  },
  {
   "cell_type": "markdown",
   "id": "8cc89fb7",
   "metadata": {},
   "source": [
    "### La metodología de solución de problemas se enfoca en enseñar a los estudiantes cómo abordar un problema de manera sistemática, identificar las variables relevantes, proponer soluciones y verificar su efectividad. \n",
    "\n",
    "### En el contexto de la ecuación cuadrática, la metodología de solución de problemas y la programación son herramientas muy útiles para encontrar soluciones precisas y eficiente, los estudiantes pueden utilizar estas herramientas para crear programas que permitan resolver ecuaciones cuadráticas de manera automática, lo que les permite ahorrar tiempo y aumentar su precisión."
   ]
  },
  {
   "cell_type": "markdown",
   "id": "248594b2",
   "metadata": {},
   "source": [
    "# Importancia de programar en Python en la ecuación cuadrática\n",
    "\n",
    "### Aprender los conceptos básicos en un lenguaje de programación como Python es muy importante para los estudiantes del Colegio de Ciencias y Humanidades, ya que les permitirá desarrollar habilidades valiosas en la programación de software, aunque no sean expertos en programación, aprender Python les brindará la oportunidad de crear programas simples y eficientes que les ayuden a resolver problemas de manera más rápida y precisa.\n",
    "\n",
    "### Además, al aplicar estos conocimientos en la resolución de ecuaciones cuadráticas,  podrán mejorar su comprensión de esta herramienta matemática esencial en muchas áreas de la ciencia y la ingeniería, al utilizar Python para resolver este tipo de ejercicios."
   ]
  },
  {
   "cell_type": "markdown",
   "id": "b28ab6e9",
   "metadata": {},
   "source": [
    "# Explicación de la Teoria de la Ecuación Cuadrática\n",
    "\n",
    "### Una ecuación cuadrática es una ecuación algebraica de segundo grado, en la cual la variable x se eleva al cuadrado. \n",
    "\n",
    "### se expresa en la forma: $ax^2 + bx + c = 0$\n",
    "### Donde \"a\", \"b\" y \"c\" son coeficientes reales o complejos, y \"x\" representa la variable desconocida. \n",
    "### El coeficiente \"a\" no puede ser igual a cero, ya que si lo fuera, la ecuación dejaría de ser cuadrática y se haría lineal."
   ]
  },
  {
   "cell_type": "markdown",
   "id": "f2611f1d",
   "metadata": {},
   "source": [
    "### La solución de una ecuación cuadrática puede ser encontrada utilizando diferentes métodos.\n",
    "### Como la factorización.\n",
    "### la fórmula general.\n",
    "### completar el cuadrado.\n",
    "### utilizando el método gráfico.\n",
    "\n",
    "### En nuestro caso utiliaremos la fórmula general, \n",
    "\n",
    "### Las soluciones pueden ser reales o complejas, dependiendo del discriminante que está dado por la expresión $b^2 - 4ac$.\n",
    "### Si el discriminante es mayor que cero, la ecuación tiene dos soluciones reales y distintas. \n",
    "### Si el discriminante es igual a cero, la ecuación tiene una única solución real.\n",
    "### Si el discriminante es menor que cero, la ecuación tiene dos soluciones complejas."
   ]
  },
  {
   "cell_type": "markdown",
   "id": "898398ce",
   "metadata": {},
   "source": [
    "# El primer programa\n",
    "\n",
    "## vamos a calcular la ecuación cuadrática con la fórmula general, sin condicionantes.\n",
    "\n",
    "### En este programa se utiliza el lenguaje de programación Python para resolver un problema matemático, en este caso, la ecuación cuadrática, a\n",
    "### través de funciones de entrada y salida de datos, el programa solicita al usuario los coeficientes a, b y c, y luego realiza los cálculos necesarios para obtener los valores de x1 y x2. "
   ]
  },
  {
   "cell_type": "code",
   "execution_count": 16,
   "id": "8f82032c",
   "metadata": {},
   "outputs": [
    {
     "name": "stdout",
     "output_type": "stream",
     "text": [
      "Ingrese el coeficiente a: 2\n",
      "Ingrese el coeficiente b: 1\n",
      "Ingrese el coeficiente c: 1\n",
      "El resultado de x1 es (-0.24999999999999997+0.6614378277661477j)\n",
      "El resultado de x2 es (-0.25000000000000006-0.6614378277661477j)\n"
     ]
    }
   ],
   "source": [
    "\n",
    "# Solicitar coeficientes al usuario\n",
    "a = float(input(\"Ingrese el coeficiente a: \"))\n",
    "b = float(input(\"Ingrese el coeficiente b: \"))\n",
    "c = float(input(\"Ingrese el coeficiente c: \"))\n",
    "\n",
    "# se calcula el descriminante\n",
    "\n",
    "D=pow(b,2)-4*a*c\n",
    "\n",
    "# se calcula el valor de x1 y el valor de x2\n",
    "\n",
    "x1=(-b+pow(D,1/2))/(2*a)\n",
    "x2=(-b-pow(D,1/2))/(2*a)\n",
    "\n",
    "print(\"El resultado de x1 es\",x1)\n",
    "print(\"El resultado de x2 es\",x2)"
   ]
  },
  {
   "cell_type": "markdown",
   "id": "518690d6",
   "metadata": {},
   "source": [
    "# Ahora vamos a calcular la ecuación cuadrática con la fórmula general, con estructuras de control if-elif-else.\n",
    "\n",
    "### Es importante manejar estructuras de control condiciones if-elif-else en este ejercicio porque se debe tener en cuenta que la ecuación cuadrática puede tener diferentes soluciones dependiendo del valor del discriminante D:\n",
    "\n",
    "### *si D es mayor que cero, la ecuación tiene dos soluciones reales diferentes. \n",
    "### *Si D es igual a cero, la ecuación tiene una única solución real. \n",
    "### *Y si D es menor que cero, la ecuación no tiene soluciones reales, sino soluciones complejas.\n",
    "\n",
    "### Por lo tanto, se utiliza la estructura de control if-elif-else para determinar qué solución se debe mostrar al usuario según el valor del discriminante D."
   ]
  },
  {
   "cell_type": "code",
   "execution_count": 33,
   "id": "7c0f621e",
   "metadata": {},
   "outputs": [
    {
     "name": "stdout",
     "output_type": "stream",
     "text": [
      "Ingrese el coeficiente a: 1\n",
      "Ingrese el coeficiente b: 0\n",
      "Ingrese el coeficiente c: 1\n",
      "X1 y x2 sus soluciones son complejas\n",
      "El resultado de x1 es (6.123233995736766e-17+1j)\n",
      "El resultado de x2 es (-6.123233995736766e-17-1j)\n"
     ]
    }
   ],
   "source": [
    "# Solicitar coeficientes al usuario\n",
    "a = float(input(\"Ingrese el coeficiente a: \"))\n",
    "b = float(input(\"Ingrese el coeficiente b: \"))\n",
    "c = float(input(\"Ingrese el coeficiente c: \"))\n",
    "\n",
    "# se calcula el descriminante\n",
    "\n",
    "D=pow(b,2)-4*a*c\n",
    "if D<0:\n",
    "\tprint(\"X1 y x2 sus soluciones son complejas\")\n",
    "\tx1=(-b+pow(D,1/2))/(2*a)\n",
    "\tx2=(-b-pow(D,1/2))/(2*a)\n",
    "\tprint(\"El resultado de x1 es\",x1)\n",
    "\tprint(\"El resultado de x2 es\",x2)  \n",
    "elif D>0:\n",
    "\tprint(\"X1 y x2 sus soluciones son reales y distintas\")\n",
    "\tx1=(-b+pow(D,1/2))/(2*a)\n",
    "\tx2=(-b-pow(D,1/2))/(2*a)\n",
    "\tprint(\"El resultado de x1 es\",x1)\n",
    "\tprint(\"El resultado de x2 es\",x2)\n",
    "else:\n",
    "\t\tprint(\"X1 y x2 sus soluciones son iguales\")\n",
    "\t\tx1=(-b+pow(D,1/2))/(2*a)\n",
    "\t\tx2=(-b-pow(D,1/2))/(2*a)\n",
    "\t\tprint(\"El resultado de x1 es\",x1)\n",
    "\t\tprint(\"El resultado de x2 es\",x2)  "
   ]
  },
  {
   "cell_type": "markdown",
   "id": "2a9fc94a",
   "metadata": {},
   "source": [
    "# Ahora vamos a agregar una pregunta si se desea hacer otro calculo de la ecuación cuadrática\n",
    "\n",
    "### Resulta fundamental manejar ciclos y ofrecer la posibilidad de realizar múltiples cálculos en el ejercicio de la ecuación cuadrática, ya que esto permite al usuario ahorrar tiempo al no tener que ejecutar el programa cada vez que se desea, además, es posible que el usuario desee experimentar con diferentes valores para los coeficientes a y b de la ecuación, y el uso de ciclos y la opción de realizar otro cálculo simplifica este proceso, asimismo, contribuye a evitar la redundancia de código y mejora la eficiencia y la usabilidad del programa."
   ]
  },
  {
   "cell_type": "code",
   "execution_count": 6,
   "id": "ae8a05c2",
   "metadata": {},
   "outputs": [
    {
     "name": "stdout",
     "output_type": "stream",
     "text": [
      "Ingrese el coeficiente a: 1\n",
      "Ingrese el coeficiente b: 2\n",
      "Ingrese el coeficiente c: 1\n",
      "X1 y x2 sus soluciones son iguales\n",
      "El resultado de x1 es -1.0\n",
      "El resultado de x2 es -1.0\n",
      "Deseas hacer otro calculo s/nS\n",
      "Ingrese el coeficiente a: 1\n",
      "Ingrese el coeficiente b: 5\n",
      "Ingrese el coeficiente c: 1\n",
      "X1 y x2 sus soluciones son reales y distintas\n",
      "El resultado de x1 es -0.20871215252208009\n",
      "El resultado de x2 es -4.7912878474779195\n",
      "Deseas hacer otro calculo s/nS\n",
      "Ingrese el coeficiente a: 1\n",
      "Ingrese el coeficiente b: 0\n",
      "Ingrese el coeficiente c: 1\n",
      "X1 y x2 sus soluciones son complejas\n",
      "El resultado de x1 es (6.123233995736766e-17+1j)\n",
      "El resultado de x2 es (-6.123233995736766e-17-1j)\n",
      "Deseas hacer otro calculo s/nN\n"
     ]
    }
   ],
   "source": [
    "# se genera el ciclo\n",
    "while True:\n",
    "\t# Solicitar coeficientes al usuario\n",
    "\ta = float(input(\"Ingrese el coeficiente a: \"))\n",
    "\tb = float(input(\"Ingrese el coeficiente b: \"))\n",
    "\tc = float(input(\"Ingrese el coeficiente c: \"))\n",
    "\t# se calcula el descriminante\n",
    "\tD=pow(b,2)-4*a*c\n",
    "\tif D<0:\n",
    "\t\tprint(\"X1 y x2 sus soluciones son complejas\")\n",
    "\t\tx1=(-b+pow(D,1/2))/(2*a)\n",
    "\t\tx2=(-b-pow(D,1/2))/(2*a)\n",
    "\t\tprint(\"El resultado de x1 es\",x1)\n",
    "\t\tprint(\"El resultado de x2 es\",x2)  \n",
    "\telif D>0:\n",
    "\t\tprint(\"X1 y x2 sus soluciones son reales y distintas\")\n",
    "\t\tx1=(-b+pow(D,1/2))/(2*a)\n",
    "\t\tx2=(-b-pow(D,1/2))/(2*a)\n",
    "\t\tprint(\"El resultado de x1 es\",x1)\n",
    "\t\tprint(\"El resultado de x2 es\",x2)\n",
    "\telse:\n",
    "\t\tprint(\"X1 y x2 sus soluciones son iguales\")\n",
    "\t\tx1=(-b+pow(D,1/2))/(2*a)\n",
    "\t\tx2=(-b-pow(D,1/2))/(2*a)\n",
    "\t\tprint(\"El resultado de x1 es\",x1)\n",
    "\t\tprint(\"El resultado de x2 es\",x2)\n",
    "\tRespuesta=input(\"Deseas hacer otro calculo s/n\")\n",
    "\tif Respuesta.lower()!=\"s\":\n",
    "\t\tbreak"
   ]
  },
  {
   "cell_type": "markdown",
   "id": "c30a36f0",
   "metadata": {},
   "source": [
    "# Ahora importaremos el módulo math para calcular la raiz cuadrada con una función determinada\n",
    "\n",
    "### El manejo del módulo math en la solución de la ecuación cuadrática resulta muy conveniente ya que nos brinda acceso a funciones matemáticas predefinidas que facilitan el proceso de cálculo, esto se evidencia en el uso de la función sqrt(), la cual nos permite calcular la raíz cuadrada de un número sin necesidad de hacerlo manualmente, lo que disminuye los errores potenciales, de igual forma, el uso del módulo math nos permite acceder a otras funciones matemáticas útiles para resolver problemas más complejos.\n",
    "\n",
    "### Recordemos que la utilización del módulo math optimiza el proceso de cálculo y aumenta la precisión de los resultados obtenidos."
   ]
  },
  {
   "cell_type": "code",
   "execution_count": 30,
   "id": "ebcaee9f",
   "metadata": {},
   "outputs": [
    {
     "name": "stdout",
     "output_type": "stream",
     "text": [
      "Ingrese el coeficiente a: 1\n",
      "Ingrese el coeficiente b: 0\n",
      "Ingrese el coeficiente c: 1\n",
      "X1 y x2 sus soluciones son complejas\n",
      "El resultado de x1 es (6.123233995736766e-17+1j)\n",
      "El resultado de x2 es (-6.123233995736766e-17-1j)\n",
      "Deseas hacer otro calculo s/nN\n"
     ]
    }
   ],
   "source": [
    "import math\n",
    "# se genera el ciclo\n",
    "while True:\n",
    "\ta = float(input(\"Ingrese el coeficiente a: \"))\n",
    "\tb = float(input(\"Ingrese el coeficiente b: \"))\n",
    "\tc = float(input(\"Ingrese el coeficiente c: \"))\n",
    "\t# se calcula el descriminante\n",
    "\tD=pow(b,2)-4*a*c\n",
    "\tif D<0:\n",
    "\t\tprint(\"X1 y x2 sus soluciones son complejas\")\n",
    "\t\tx1=(-b+pow(D,1/2))/(2*a)\n",
    "\t\tx2=(-b-pow(D,1/2))/(2*a)\n",
    "\t\tprint(\"El resultado de x1 es\",x1)\n",
    "\t\tprint(\"El resultado de x2 es\",x2)  \n",
    "\telif D>0:\n",
    "\t\tx1=(-b+math.sqrt(D))/(2*a)\n",
    "\t\tx2=(-b-math.sqrt(D))/(2*a)\n",
    "\t\tprint(\"X1 y x2 sus soluciones son reales y distintas\")\n",
    "\t\tprint(\"El resultado de x1 es\",x1)\n",
    "\t\tprint(\"El resultado de x2 es\",x2)\n",
    "\telse:\n",
    "\t\tprint(\"X1 y x2 sus soluciones son iguales\")\n",
    "\t\tx1=(-b+math.sqrt(D))/(2*a)\n",
    "\t\tx2=(-b-math.sqrt(D))/(2*a)\n",
    "\t\tprint(\"El resultado de x1 es\",x1)\n",
    "\t\tprint(\"El resultado de x2 es\",x2)\n",
    "\tRespuesta=input(\"Deseas hacer otro calculo s/n\")\n",
    "\tif Respuesta.lower()!=\"s\":\n",
    "\t\tbreak"
   ]
  },
  {
   "cell_type": "markdown",
   "id": "f37cf51b",
   "metadata": {},
   "source": [
    "# Ahora lo desarrollaremos la solución cuadrática con funciones sin parámetros\n",
    "\n",
    "### El desarrollo de funciones sin parámetros en Python para la ecuación cuadrática permite una mejor organización del código y facilita su mantenimiento y escalabilidad.\n",
    "\n",
    "### Al utilizar funciones como Entrada(), Disc() y Proceso(), se logra una mayor claridad y sencillez en el código, ya que cada función tiene una tarea específica y no es necesario pasar argumentos adicionales al llamarlas.\n",
    "\n",
    "### Además, el uso de variables globales permite compartir información entre las funciones sin necesidad de pasarla como parámetro. "
   ]
  },
  {
   "cell_type": "code",
   "execution_count": 31,
   "id": "519dd136",
   "metadata": {},
   "outputs": [],
   "source": [
    "def Entrada():\n",
    "\tglobal a,b,c\n",
    "\ta = float(input(\"Ingrese el coeficiente a: \"))\n",
    "\tb = float(input(\"Ingrese el coeficiente b: \"))\n",
    "\tc = float(input(\"Ingrese el coeficiente c: \"))"
   ]
  },
  {
   "cell_type": "code",
   "execution_count": 32,
   "id": "7709e1d7",
   "metadata": {},
   "outputs": [],
   "source": [
    "def Disc():\n",
    "\tglobal D\n",
    "\tD=b*b-4*a*c"
   ]
  },
  {
   "cell_type": "code",
   "execution_count": 33,
   "id": "2849bc4b",
   "metadata": {},
   "outputs": [],
   "source": [
    "def Proceso():\n",
    "\tprint(\"El valor de D\",D)\n",
    "\tif D<0:\n",
    "\t\tprint(\"X1 y x2 sus soluciones son complejas\")\n",
    "\t\tx1=(-b+pow(D,1/2))/(2*a)\n",
    "\t\tx2=(-b-pow(D,1/2))/(2*a)\n",
    "\t\tprint(\"El resultado de x1 es\",x1)\n",
    "\t\tprint(\"El resultado de x2 es\",x2)  \n",
    "\telif D>0:\n",
    "\t\tprint(\"El valor de D\",D)\n",
    "\t\tx1=(-b+math.sqrt(D))/(2*a)\n",
    "\t\tx2=(-b-math.sqrt(D))/(2*a)\n",
    "\t\tprint(\"X1 y x2 sus soluciones son reales y distintas\")\n",
    "\t\tprint(\"El resultado de x1 es\",x1)\n",
    "\t\tprint(\"El resultado de x2 es\",x2)\n",
    "\telse:\n",
    "\t\tprint(\"X1 y x2 sus soluciones son iguales\")\n",
    "\t\tx1=(-b+math.sqrt(D))/(2*a)\n",
    "\t\tx2=(-b-math.sqrt(D))/(2*a)\n",
    "\t\tprint(\"El resultado de x1 es\",x1)\n",
    "\t\tprint(\"El resultado de x2 es\",x2)"
   ]
  },
  {
   "cell_type": "code",
   "execution_count": 34,
   "id": "171d3c4d",
   "metadata": {},
   "outputs": [
    {
     "name": "stdout",
     "output_type": "stream",
     "text": [
      "Ingrese el coeficiente a: 1\n",
      "Ingrese el coeficiente b: 2\n",
      "Ingrese el coeficiente c: 1\n",
      "El valor de D 0.0\n",
      "X1 y x2 sus soluciones son iguales\n",
      "El resultado de x1 es -1.0\n",
      "El resultado de x2 es -1.0\n",
      "Deseas hacer otro calculo s/ns\n",
      "Ingrese el coeficiente a: 1\n",
      "Ingrese el coeficiente b: 5\n",
      "Ingrese el coeficiente c: 1\n",
      "El valor de D 21.0\n",
      "El valor de D 21.0\n",
      "X1 y x2 sus soluciones son reales y distintas\n",
      "El resultado de x1 es -0.20871215252208009\n",
      "El resultado de x2 es -4.7912878474779195\n",
      "Deseas hacer otro calculo s/ns\n",
      "Ingrese el coeficiente a: 1\n",
      "Ingrese el coeficiente b: 0\n",
      "Ingrese el coeficiente c: 1\n",
      "El valor de D -4.0\n",
      "X1 y x2 sus soluciones son complejas\n",
      "El resultado de x1 es (6.123233995736766e-17+1j)\n",
      "El resultado de x2 es (-6.123233995736766e-17-1j)\n",
      "Deseas hacer otro calculo s/nn\n"
     ]
    }
   ],
   "source": [
    "# se genera el ciclo\n",
    "import math\n",
    "while True:\n",
    "\tEntrada()\n",
    "\tDisc()\n",
    "\tProceso()\n",
    "\tRespuesta=input(\"Deseas hacer otro calculo s/n\")\n",
    "\tif Respuesta.lower()!=\"s\":\n",
    "\t\tbreak"
   ]
  },
  {
   "cell_type": "markdown",
   "id": "cf59d48b",
   "metadata": {},
   "source": [
    "# Desarrollar el ejercicio de la ecuacion cuadrática con argumentos y el valor de retorno\n",
    "\n",
    "### El desarrollo de funciones de la ecuación cuadrática con argumentos y valor de retorno permite una mayor flexibilidad y reutilización del código, al utilizar variables locales en vez de globales, se evita la posibilidad de errores por cambios inesperados, al llamar a la función desde el programa principal, se asigna el valor de retorno a una variable y se utilizan las soluciones calculadas dentro de la función, de esta manera, se logra una mayor modularidad del código. "
   ]
  },
  {
   "cell_type": "code",
   "execution_count": 15,
   "id": "ac92c2f6",
   "metadata": {},
   "outputs": [],
   "source": [
    "def Ecuacion_Cuadratica(a,b,c):\n",
    "\tglobal x1,x2\n",
    "\tD=pow(b,2)-4*a*c\n",
    "\tx1=(-b+pow(D,1/2))/(2*a)\n",
    "\tx2=(-b-pow(D,1/2))/(2*a)\n",
    "\treturn D"
   ]
  },
  {
   "cell_type": "code",
   "execution_count": 18,
   "id": "211041d6",
   "metadata": {},
   "outputs": [
    {
     "name": "stdout",
     "output_type": "stream",
     "text": [
      "Ingrese el coeficiente a: 1\n",
      "Ingrese el coeficiente b: 0\n",
      "Ingrese el coeficiente c: 1\n",
      "X1 y x2 sus soluciones son complejas\n",
      "El resultado de x1 es (6.123233995736766e-17+1j)\n",
      "El resultado de x2 es (-6.123233995736766e-17-1j)\n"
     ]
    }
   ],
   "source": [
    "import math\n",
    "# Solicitar coeficientes al usuario\n",
    "a1 = float(input(\"Ingrese el coeficiente a: \"))\n",
    "b1 = float(input(\"Ingrese el coeficiente b: \"))\n",
    "c1 = float(input(\"Ingrese el coeficiente c: \"))\n",
    "Disc1=Ecuacion_Cuadratica(a1,b1,c1)\n",
    "if Disc1<0:\n",
    "\tprint(\"X1 y x2 sus soluciones son complejas\")\n",
    "elif Disc1>0:\n",
    "\tprint(\"X1 y x2 sus soluciones son reales y distintas\")\n",
    "else:\n",
    "\tprint(\"X1 y x2 sus soluciones son iguales\")\n",
    "print(\"El resultado de x1 es\",x1)\n",
    "print(\"El resultado de x2 es\",x2)"
   ]
  },
  {
   "cell_type": "markdown",
   "id": "cfb549c7",
   "metadata": {},
   "source": [
    "# Funciones para la ecuación cuadratica con tupla.\n",
    "\n",
    "### La relevancia de la tupla en la ecuación cuadrática reside en que esta puede tener dos soluciones distintas o una solución doble, al utilizar una tupla como valor de retorno, se pueden retornar ambas soluciones si existen o una sola solución si es doble, esto permite manejar eficazmente los diferentes escenarios que pueden surgir al resolver una ecuación cuadrática."
   ]
  },
  {
   "cell_type": "code",
   "execution_count": 10,
   "id": "11a7ec0d",
   "metadata": {},
   "outputs": [
    {
     "name": "stdout",
     "output_type": "stream",
     "text": [
      "Ingrese el coeficiente a: 1\n",
      "Ingrese el coeficiente b: 2\n",
      "Ingrese el coeficiente c: 3\n",
      "Las soluciones son: None\n",
      "Deseas hacer otro calculo s/nn\n"
     ]
    }
   ],
   "source": [
    "import math\n",
    "\n",
    "def calcular_soluciones(a, b, c):\n",
    "    discriminante = b**2 - 4*a*c\n",
    "\n",
    "    if discriminante > 0:\n",
    "        x1 = (-b + math.sqrt(discriminante)) / (2*a)\n",
    "        x2 = (-b - math.sqrt(discriminante)) / (2*a)\n",
    "        return x1, x2 #tuple\n",
    "    elif discriminante == 0:\n",
    "        x = -b / (2*a)\n",
    "        return x\n",
    "    else:\n",
    "        return None\n",
    "while True:\n",
    "\ta1 = float(input(\"Ingrese el coeficiente a: \"))\n",
    "\tb1 = float(input(\"Ingrese el coeficiente b: \"))\n",
    "\tc1 = float(input(\"Ingrese el coeficiente c: \"))\n",
    "\tsoluciones = calcular_soluciones(a1, b1, c1)\n",
    "\tprint(\"Las soluciones son:\", soluciones)\n",
    "\tRespuesta=input(\"Deseas hacer otro calculo s/n\")\n",
    "\tif Respuesta.lower()!=\"s\":\n",
    "\t\tbreak    "
   ]
  },
  {
   "cell_type": "markdown",
   "id": "d9514270",
   "metadata": {},
   "source": [
    "# Ayuda definida para utilizar la solución de la ecuación cuadrática\n",
    "\n",
    "### Esta ayuda en Python sirve para explicar cómo funciona la función que resuelve una ecuación cuadrática y qué parámetros se deben proporcionar para obtener las soluciones, además indica que el valor de retorno es una tupla que contiene las soluciones reales de la ecuación o None si no hay soluciones reales. \n",
    "\n",
    "### Esta información es útil para los usuarios que desean utilizar la función en sus programas y necesitan saber cómo usarla correctamente y qué esperar como resultado."
   ]
  },
  {
   "cell_type": "code",
   "execution_count": 7,
   "id": "063b114a",
   "metadata": {},
   "outputs": [
    {
     "name": "stdout",
     "output_type": "stream",
     "text": [
      "(-1.0, -1.0)\n"
     ]
    }
   ],
   "source": [
    "import math\n",
    "def calcular_soluciones(a, b, c):\n",
    "    \"\"\"\n",
    "    Resuelve una ecuación cuadrática de la forma ax^2 + bx + c = 0.\n",
    "    \n",
    "    Parámetros:\n",
    "    a -- coeficiente cuadrático\n",
    "    b -- coeficiente lineal\n",
    "    c -- término independiente\n",
    "    \n",
    "    Retorna:\n",
    "    Una tupla con las soluciones reales de la ecuación cuadrática.\n",
    "    Si la ecuación no tiene soluciones reales, retorna None.\n",
    "    \"\"\"\n",
    "    discriminante = b**2 - 4*a*c\n",
    "    \n",
    "    if discriminante < 0:\n",
    "        return None\n",
    "    \n",
    "    solucion_1 = (-b + math.sqrt(discriminante)) / (2*a)\n",
    "    solucion_2 = (-b - math.sqrt(discriminante)) / (2*a)\n",
    "    \n",
    "    return (solucion_1, solucion_2)\n",
    "\n",
    "\n",
    "solucion=calcular_soluciones(1, 2, 1)\n",
    "print(solucion)"
   ]
  },
  {
   "cell_type": "markdown",
   "id": "48ea45ff",
   "metadata": {},
   "source": [
    "# la función lambda para calcular la ecuación cuadrática\n",
    "\n",
    "### La función lambda definida para calcular la ecuación cuadrática permite obtener las soluciones de forma concisa y directa, en una sola linea, simplemente ingresando los coeficientes, esta función devuelve las raíces de la ecuación, evitando repetición de código y facilitando su uso en diferentes partes del programa. "
   ]
  },
  {
   "cell_type": "code",
   "execution_count": 17,
   "id": "ead6c868",
   "metadata": {},
   "outputs": [
    {
     "name": "stdout",
     "output_type": "stream",
     "text": [
      "Ingrese el coeficiente a: 1\n",
      "Ingrese el coeficiente b: 2\n",
      "Ingrese el coeficiente c: 1\n",
      "Las soluciones son: (-1.0, -1.0)\n"
     ]
    }
   ],
   "source": [
    "# Definir la función lambda para calcular la ecuación cuadrática\n",
    "ecuacion_cuadratica = lambda a, b, c: (\n",
    "    (-b + (b**2 - 4*a*c)**0.5) / (2*a),\n",
    "    (-b - (b**2 - 4*a*c)**0.5) / (2*a)\n",
    ")\n",
    "a1 = float(input(\"Ingrese el coeficiente a: \"))\n",
    "b1 = float(input(\"Ingrese el coeficiente b: \"))\n",
    "c1 = float(input(\"Ingrese el coeficiente c: \"))\n",
    "soluciones = ecuacion_cuadratica(a1, b1, c1)\n",
    "print(\"Las soluciones son:\", soluciones)# se crea en la variable soluciones una tupla"
   ]
  },
  {
   "cell_type": "markdown",
   "id": "78fbc38f",
   "metadata": {},
   "source": [
    "# Solución de la ecuacion cuadrática por listas\n",
    "\n",
    "### En Python, las listas son estructuras de datos que pueden utilizarse para almacenar y organizar elementos en una secuencia ordenada, para resolver una ecuación cuadrática (ax^2 + bx + c = 0), generalmente no utilizamos listas directamente para la solución, pero en este ejemplo se puede ver la utilización de listas para poderlo resolver."
   ]
  },
  {
   "cell_type": "code",
   "execution_count": 11,
   "id": "c3d34fc3",
   "metadata": {},
   "outputs": [],
   "source": [
    "import math\n",
    "\n",
    "def solucion_ecuacion_cuadratica(coeficientes):\n",
    "    a, b, c = coeficientes\n",
    "    discriminante = b**2 - 4*a*c\n",
    "    if discriminante < 0:\n",
    "        return None\n",
    "    elif discriminante == 0:\n",
    "        x = -b / (2*a)\n",
    "        return (x)\n",
    "    else:\n",
    "        x1 = (-b + math.sqrt(discriminante)) / (2*a)\n",
    "        x2 = (-b - math.sqrt(discriminante)) / (2*a)\n",
    "        return (x1, x2)"
   ]
  },
  {
   "cell_type": "code",
   "execution_count": 15,
   "id": "fb02bbc8",
   "metadata": {},
   "outputs": [
    {
     "name": "stdout",
     "output_type": "stream",
     "text": [
      "-1.0\n"
     ]
    }
   ],
   "source": [
    "coeficientes = [1, 2, 1]\n",
    "soluciones = solucion_ecuacion_cuadratica(coeficientes)\n",
    "print(soluciones)"
   ]
  },
  {
   "cell_type": "markdown",
   "id": "8adcd31e",
   "metadata": {},
   "source": [
    "# Diccionarios en la solución de una ecuación cuadrática\n",
    "\n",
    "### Un diccionario en Python es una estructura de datos que permite almacenar elementos en pares clave-valor, cada elemento tiene una clave única que actúa como identificador y un valor asociado a esa clave, los diccionarios son muy útiles para almacenar y acceder a datos de manera eficiente, ya que permiten realizar búsquedas rápidas mediante la clave, en lugar de tener que recorrer toda la estructura de datos.\n",
    "\n",
    "### una de las ventajas que encontre en el uso de diccionarios para la solución del problema de la ecuacion cuadrática, es el orden de cada uno de los coeficientes, pero una de las desventajas es los posibles errores que se pueden cometer al ingresar cada coeficiente.\n"
   ]
  },
  {
   "cell_type": "code",
   "execution_count": 20,
   "id": "d0821cd8",
   "metadata": {},
   "outputs": [
    {
     "name": "stdout",
     "output_type": "stream",
     "text": [
      "No hay soluciones reales\n"
     ]
    }
   ],
   "source": [
    "import math\n",
    "\n",
    "def resolver_ecuacion_cuadratica(coeficientes):\n",
    "    a = coeficientes['a']\n",
    "    b = coeficientes['b']\n",
    "    c = coeficientes['c']\n",
    "\n",
    "    discriminante = b**2 - 4*a*c\n",
    "\n",
    "    if discriminante > 0:\n",
    "        x1 = (-b + math.sqrt(discriminante)) / (2*a)\n",
    "        x2 = (-b - math.sqrt(discriminante)) / (2*a)\n",
    "        return x1, x2\n",
    "    elif discriminante == 0:\n",
    "        x = -b / (2*a)\n",
    "        return x\n",
    "    else:\n",
    "        return \"No hay soluciones reales\"\n",
    "\n",
    "# Ejemplo de uso:\n",
    "coeficientes = {'a': 11, 'b': 2, 'c': 1} #el uso del diccionario\n",
    "soluciones = resolver_ecuacion_cuadratica(coeficientes)\n",
    "print(soluciones)"
   ]
  },
  {
   "cell_type": "markdown",
   "id": "854fd35e",
   "metadata": {},
   "source": [
    "# La Programación Orientada a Objetos, resolviendo la ecuación cuadrática\n",
    "\n",
    "### La Programación Orientada a Objetos (POO) en Python es un enfoque de programación que se basa en la creación de clases y objetos, en el contexto de resolver ecuaciones cuadráticas, la POO nos permite diseñar una clase específica para representar una ecuación cuadrática y sus operaciones relacionadas.\n",
    "\n",
    "\n",
    "### En lugar de trabajar directamente con funciones independientes como lo hemos desarrollado anteriomente, podemos crear una clase llamada EcuacionCuadratica, que tenga atributos para almacenar los coeficientes de la ecuación (a, b y c) y métodos para realizar las operaciones necesarias, como calcular las raíces.\n",
    "\n",
    "\n",
    "### Los atributos de la clase (por ejemplo, self.a, self.b y self.c) almacenan los valores proporcionados al crear una instancia de la clase, luego, los métodos de la clase calcular_raices, utilizan estos atributos para realizar los cálculos y proporcionar las soluciones."
   ]
  },
  {
   "cell_type": "code",
   "execution_count": 23,
   "id": "1efb4ad9",
   "metadata": {},
   "outputs": [
    {
     "name": "stdout",
     "output_type": "stream",
     "text": [
      "(2.0, 1.0)\n"
     ]
    }
   ],
   "source": [
    "import math\n",
    "\n",
    "class EcuacionCuadratica:\n",
    "    def __init__( self, a, b, c):\n",
    "        self.a = a\n",
    "        self.b = b\n",
    "        self.c = c\n",
    "\n",
    "    def calcular_raices(self):\n",
    "        discriminante = self.b**2 - 4*self.a*self.c\n",
    "\n",
    "        if discriminante > 0:\n",
    "            raiz1 = (-self.b + math.sqrt(discriminante)) / (2*self.a)\n",
    "            raiz2 = (-self.b - math.sqrt(discriminante)) / (2*self.a)\n",
    "            return raiz1, raiz2\n",
    "        elif discriminante == 0:\n",
    "            raiz = -self.b / (2*self.a)\n",
    "            return raiz\n",
    "        else:\n",
    "            return None\n",
    "\n",
    "# Ejemplo de uso:\n",
    "a, b, c = 1, -3, 2\n",
    "ecuacion = EcuacionCuadratica(a, b, c)\n",
    "soluciones = ecuacion.calcular_raices()\n",
    "print(soluciones)\n"
   ]
  },
  {
   "cell_type": "markdown",
   "id": "faeac909",
   "metadata": {},
   "source": [
    "# Para finalizar el trabajo graficaremos ahora una función cuadrática\n",
    "\n",
    "### graficar una función cuadrática con Python proporciona una representación visual, facilita la identificación de raíces, vértices, simetría y concavidad, y ayuda en el análisis y comprensión de diferentes aspectos de la función.\n",
    "\n",
    "# ¿Que se necesita para gráficar?\n",
    "\n",
    "### El comando \"import numpy as np\" se utiliza para importar la librería NumPy en Python y asignarle el alias \"np\",  NumPy es una biblioteca muy utilizada para realizar operaciones numéricas y arreglos multidimensionales en Python.\n",
    "\n",
    "### El comando \"import matplotlib.pyplot as plt\" se utiliza para importar la sublibrería pyplot de la librería Matplotlib y asignarle el alias \"plt\",  matplotlib es una biblioteca de trazado en 2D que se utiliza para crear gráficos y visualizaciones en Python, con este comando, podemos acceder a las funciones y métodos proporcionados por la sublibrería pyplot para crear gráficos.\n"
   ]
  },
  {
   "cell_type": "code",
   "execution_count": 52,
   "id": "5774cfc1",
   "metadata": {},
   "outputs": [
    {
     "data": {
      "text/plain": [
       "array([ 6.10000000e+01,  5.78084889e+01,  5.46986022e+01,  5.16703398e+01,\n",
       "        4.87237017e+01,  4.58586879e+01,  4.30752984e+01,  4.03735333e+01,\n",
       "        3.77533925e+01,  3.52148760e+01,  3.27579839e+01,  3.03827160e+01,\n",
       "        2.80890725e+01,  2.58770534e+01,  2.37466585e+01,  2.16978880e+01,\n",
       "        1.97307418e+01,  1.78452199e+01,  1.60413223e+01,  1.43190491e+01,\n",
       "        1.26784002e+01,  1.11193756e+01,  9.64197531e+00,  8.24619937e+00,\n",
       "        6.93204775e+00,  5.69952046e+00,  4.54861749e+00,  3.47933884e+00,\n",
       "        2.49168452e+00,  1.58565453e+00,  7.61248852e-01,  1.84675033e-02,\n",
       "       -6.42689521e-01, -1.22222222e+00, -1.72013060e+00, -2.13641465e+00,\n",
       "       -2.47107438e+00, -2.72410978e+00, -2.89552087e+00, -2.98530762e+00,\n",
       "       -2.99347005e+00, -2.92000816e+00, -2.76492195e+00, -2.52821141e+00,\n",
       "       -2.20987654e+00, -1.80991736e+00, -1.32833384e+00, -7.65126008e-01,\n",
       "       -1.20293848e-01,  6.06162636e-01,  1.41424344e+00,  2.30394858e+00,\n",
       "        3.27527803e+00,  4.32823181e+00,  5.46280992e+00,  6.67901235e+00,\n",
       "        7.97683910e+00,  9.35629017e+00,  1.08173656e+01,  1.23600653e+01,\n",
       "        1.39843893e+01,  1.56903377e+01,  1.74779104e+01,  1.93471074e+01,\n",
       "        2.12979288e+01,  2.33303745e+01,  2.54444444e+01,  2.76401388e+01,\n",
       "        2.99174574e+01,  3.22764004e+01,  3.47169677e+01,  3.72391593e+01,\n",
       "        3.98429752e+01,  4.25284155e+01,  4.52954801e+01,  4.81441690e+01,\n",
       "        5.10744822e+01,  5.40864198e+01,  5.71799816e+01,  6.03551678e+01,\n",
       "        6.36119784e+01,  6.69504132e+01,  7.03704724e+01,  7.38721559e+01,\n",
       "        7.74554637e+01,  8.11203959e+01,  8.48669524e+01,  8.86951331e+01,\n",
       "        9.26049383e+01,  9.65963677e+01,  1.00669421e+02,  1.04824100e+02,\n",
       "        1.09060402e+02,  1.13378329e+02,  1.17777880e+02,  1.22259055e+02,\n",
       "        1.26821855e+02,  1.31466279e+02,  1.36192327e+02,  1.41000000e+02])"
      ]
     },
     "execution_count": 52,
     "metadata": {},
     "output_type": "execute_result"
    }
   ],
   "source": [
    "import numpy as np\n",
    "import matplotlib.pyplot as plt\n",
    "\n",
    "a = 1\n",
    "b = 4\n",
    "c = 1\n",
    "\n",
    "# Se crear el arreglo para x\n",
    "x = np.linspace(-10, 10, 100)\n",
    "\n",
    "y = a * x**2 + b * x + c\n",
    "y\n"
   ]
  },
  {
   "cell_type": "code",
   "execution_count": 59,
   "id": "d7defddd",
   "metadata": {},
   "outputs": [
    {
     "data": {
      "image/png": "[encoded data removed]",
      "text/plain": [
       "<Figure size 640x480 with 1 Axes>"
      ]
     },
     "metadata": {},
     "output_type": "display_data"
    }
   ],
   "source": [
    "# Crear el gráfico\n",
    "plt.plot(x, y)\n",
    "\n",
    "# Título del gráfico\n",
    "plt.xlabel('x')\n",
    "plt.ylabel('y')\n",
    "plt.title('Gráfico de la ecuación cuadrática')\n",
    "\n",
    "# Gráfico\n",
    "plt.show()"
   ]
  },
  {
   "cell_type": "code",
   "execution_count": 58,
   "id": "4e10cce4",
   "metadata": {},
   "outputs": [
    {
     "data": {
      "image/png": "[encoded data removed]",
      "text/plain": [
       "<Figure size 640x480 with 1 Axes>"
      ]
     },
     "metadata": {},
     "output_type": "display_data"
    }
   ],
   "source": [
    "import matplotlib.pyplot as plt\n",
    "import numpy as np\n",
    "\n",
    "def graficar_ecuacion_cuadratica(a, b, c):\n",
    "    x = np.linspace(-10, 10, 100)  # Rango de valores de x\n",
    "    y = a * x**2 + b * x + c\n",
    "    Graficar la ecuación cuadrática\n",
    "    plt.plot(x, y)\n",
    "    plt.xlabel('x')\n",
    "    plt.ylabel('y')\n",
    "    plt.title('Gráfico de la ecuación cuadrática')\n",
    "    plt.grid(True)\n",
    "    plt.show()\n",
    "\n",
    "a = 1\n",
    "b = -2\n",
    "c = -3\n",
    "graficar_ecuacion_cuadratica(a, b, c)\n",
    "\n",
    "\n"
   ]
  },
  {
   "cell_type": "markdown",
   "id": "bf56aa85",
   "metadata": {},
   "source": [
    "# Conclusión del módulo de Python\n",
    "\n",
    "### En este trabajo de Python, he abordado el desafío de resolver un tema: la ecuación cuadrática, mi meta es aprender un nuevo lenguaje de programación, en este caso fue Python, para lograrlo me he sumergido en una diversidad de enfoques y técnicas que el Dr. Oscar nos impartió en cada momento, no fue facil, fue un gran reto, por que imparto la materia de Cibernética y Computación a nivel bachillerato y como docente no vemos los temas a como se nos enseñó.\n",
    "\n",
    "\n",
    "### Aplique los conceptos más básicos hasta llegar a la graficación, he tratado de cubrir la mayoria de los temas, inicié con resolver la ecuación cuadrática, desde lo más elemental hasta lo más complejo,  utilizando la declaración de variables y la entrada de datos para manipular los coeficientes de la ecuación, luego, implementé la lógica para calcular las soluciones de la ecuación utilizando estructuras condicionales como if y bucles repetitivos como while.\n",
    "\n",
    "\n",
    "### Después se utilizo la función math para realizar operaciones matemáticas más complejas, además se utilizaron listas y diccionarios para organizar y manipular los datos de manera efectiva.\n",
    "\n",
    "\n",
    "### Además, aprendí sobre funciones simples sin parámetros y progresando hacia funciones que reciben argumentos y devuelven valores, exploré la utilidad de las funciones tupla, permitiéndonos manejar múltiples resultados de forma práctica.\n",
    "\n",
    "\n",
    "### Avansé hacia la programación orientada a objetos, solucionando la ecuación cuadrática en una clase que facilitó la reutilización de código y mejoró la organización del programa.\n",
    "\n",
    "\n",
    "### concluyó con la graficación, que me permitió visualizar los datos y resultados obtenidos.\n",
    "\n",
    "\n",
    "# Aunque me preocupe de ser creativos y no sé si se logro, espero cumpla con lo solicitado, pero mi objetivo principal era aprender y aplicar los conocimientos adquiridos, abarqué la mayoría de los comandos y técnicas vistos en el módulo de Python, lo que representa un esfuerzo, todo ello dirigido especialmente para estudiantes de nivel bachillerato sin mucha experiencia en la materia.\n",
    "\n",
    "\n",
    "### Me falta mucho por aprender y pero con la práctica y la investigacion lograremos seguir avanzando. \n",
    "\n",
    "\n",
    "### Con este trabajo entregado, estamos confiados en haber cumplido con mis programas de tres pesos, yo sé Dr. Oscar que hubiera querido programas de un dolar."
   ]
  },
  {
   "cell_type": "code",
   "execution_count": null,
   "id": "61bbd1c5",
   "metadata": {},
   "outputs": [],
   "source": []
  }
 ],
 "metadata": {
  "kernelspec": {
   "display_name": "Python 3 (ipykernel)",
   "language": "python",
   "name": "python3"
  },
  "language_info": {
   "codemirror_mode": {
    "name": "ipython",
    "version": 3
   },
   "file_extension": ".py",
   "mimetype": "text/x-python",
   "name": "python",
   "nbconvert_exporter": "python",
   "pygments_lexer": "ipython3",
   "version": "3.10.9"
  }
 },
 "nbformat": 4,
 "nbformat_minor": 5
}
